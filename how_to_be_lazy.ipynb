{
 "cells": [
  {
   "cell_type": "markdown",
   "metadata": {},
   "source": [
    "# Housekeeping\n",
    "To make sure this is going to work, let's do some Python admin-ing. If you are on Mac, you can open a terminal window and run the following commands in order to open this notebook.\n",
    "\n",
    "* conda create -n domopalooza19 python=3 jupyter pandas\n",
    "* conda activate domopalooza19\n",
    "* pip install pydomo requests jsonpickle\n",
    "* jupyter notebook <filename>"
   ]
  },
  {
   "cell_type": "markdown",
   "metadata": {},
   "source": [
    "## Setup"
   ]
  },
  {
   "cell_type": "code",
   "execution_count": null,
   "metadata": {},
   "outputs": [],
   "source": [
    "from pydomo import Domo\n",
    "import pandas as pd\n",
    "\n",
    "pd.set_option('display.max_columns', 900)\n",
    "\n",
    "creds = pd.read_csv('creds')\n",
    "domo = Domo(creds['client_id'][0],creds['client_secret'][0])"
   ]
  },
  {
   "cell_type": "markdown",
   "metadata": {},
   "source": [
    "## Create a new batch of users based off a CSV file\n",
    "Here we have a CSV file provided by another business unit of users that need to be created in Domo. To begin with, we might want to list all of the users and check to see if there are any duplicates. The API will throw an error if you attempt to create two users with the same email address. \n",
    "\n",
    "Note that you can batch upload/modify users via the Domo UI (will show this during the demo).\n",
    "\n",
    "Here we'll create one user just to pratice how it works."
   ]
  },
  {
   "cell_type": "code",
   "execution_count": null,
   "metadata": {},
   "outputs": [],
   "source": [
    "from pydomo.users import CreateUserRequest\n",
    "from random import randint\n",
    "\n",
    "new_user_test = CreateUserRequest()\n",
    "new_user_test.name = 'This is a test'\n",
    "new_user_test.email = \"bogus_email{}@eemail.com\".format(randint(0, 10000))\n",
    "new_user_test.role = 'Privileged'\n",
    "send_invite = False\n",
    "\n",
    "nn_user = domo.users.create(new_user_test,send_invite)\n",
    "\n",
    "du = pd.DataFrame(domo.users.list(500,0))\n",
    "print(du)"
   ]
  },
  {
   "cell_type": "markdown",
   "metadata": {},
   "source": [
    "### Create users from a list\n",
    "Now we'll write a user-defined function that takes a Pandas DataFrame as an input and creates a user for each row provided."
   ]
  },
  {
   "cell_type": "code",
   "execution_count": null,
   "metadata": {},
   "outputs": [],
   "source": [
    "new_user_list = pd.read_csv('test_new_user_list.csv')\n",
    "\n",
    "def add_user_list(ul,domo_object,invite=False):\n",
    "    ur = CreateUserRequest()\n",
    "    users_created = []\n",
    "    for index, row in ul.iterrows():\n",
    "        ur.name = row['displayName']\n",
    "        ur.email = row['email']\n",
    "        ur.role = row['role']\n",
    "        users_created.append(domo_object.users.create(ur,invite))\n",
    "    return(users_created)\n",
    "\n",
    "created_users = add_user_list(new_user_list,domo)\n",
    "all_users = domo.users.list(500,0)\n",
    "cu_df = pd.DataFrame(all_users)\n",
    "print(cu_df)"
   ]
  },
  {
   "cell_type": "markdown",
   "metadata": {},
   "source": [
    "### Delete users\n",
    "What if we want to delete some of these users? For example, it can be helpful to clear out all of the users I just created (in case I need to re-work this script at all). For now we'll leave it commented out."
   ]
  },
  {
   "cell_type": "code",
   "execution_count": null,
   "metadata": {},
   "outputs": [],
   "source": [
    "def delete_users(domo_object,keep_users=['jeremy.morris@domo.com','support@domo.com']):\n",
    "    curr_users = domo_object.users.list(500,0)\n",
    "    for x in curr_users:\n",
    "        if x['email'] not in keep_users:\n",
    "            domo_object.users.delete(x['id'])\n",
    "    return 'done'\n",
    "delete_users(domo)"
   ]
  },
  {
   "cell_type": "markdown",
   "metadata": {},
   "source": [
    "If you have more than 500 users, you'll need to page through the results until you have retrieved the entire user list. The function below shows how that can be done."
   ]
  },
  {
   "cell_type": "code",
   "execution_count": null,
   "metadata": {},
   "outputs": [],
   "source": [
    "def get_all_users(domo_obj,batch_size=10):\n",
    "    offset = 0\n",
    "    all_current_users = []\n",
    "    num_returned = batch_size\n",
    "    while num_returned == batch_size:\n",
    "        this_users = domo_obj.users.list(batch_size,offset)\n",
    "        all_current_users.extend(this_users)\n",
    "        offset += batch_size\n",
    "        num_returned = len(this_users)\n",
    "    return(all_current_users)\n",
    "\n",
    "all_users = get_all_users(domo)\n",
    "all_users"
   ]
  },
  {
   "cell_type": "markdown",
   "metadata": {},
   "source": [
    "## Permission map\n",
    "\n",
    "Have you ever wanted to generate a view of who can see pages and cards on those pages? The public API allows you to do the following.\n",
    "\n",
    "* Query a list of all pages\n",
    "* Retrieve basic information about that page including a list of all collections, cards, users and groups.\n",
    "* Get basic information about individual collections of cards."
   ]
  },
  {
   "cell_type": "code",
   "execution_count": null,
   "metadata": {},
   "outputs": [],
   "source": [
    "def format_page_info(domo_obj,page_id):\n",
    "    page_info = domo_obj.pages.get(page_id)\n",
    "    \n",
    "    info_keys = ['id','ownerId','name','locked']\n",
    "    info_dict = {key:page_info[key] for key in info_keys}\n",
    "    info_dict['tojoin'] = 1\n",
    "    info_df = pd.DataFrame(info_dict,index=[0])\n",
    "    \n",
    "    cards = pd.DataFrame({'card_id':page_info['cardIds'],'tojoin':[1]*len(page_info['cardIds'])})\n",
    "    \n",
    "    info_cards = pd.merge(info_df,cards,on='tojoin')\n",
    "    \n",
    "    collections = domo_obj.pages.get_collections(page_id)\n",
    "    collections_df = pd.DataFrame()\n",
    "    collection_keys = ['id','title','description']\n",
    "    for x in collections:\n",
    "        collection_info = {key:x[key] for key in collection_keys}\n",
    "        collection_info['tojoin'] = 1\n",
    "        collection_info_df = pd.DataFrame(collection_info,index=[0])\n",
    "        collection_card_df = pd.DataFrame({'card_id':x['cardIds'],'tojoin':[1]*len(x['cardIds'])})\n",
    "        collection_add = pd.merge(collection_info_df,collection_card_df,on='tojoin')\n",
    "        collections_df = pd.concat([collections_df,collection_add],sort=True)\n",
    "    \n",
    "    if len(collections) > 0:\n",
    "        collection_cols = {'id':'collection_id','title':'collection_title','description':'collection_desc'}\n",
    "        collections_df.rename(index=str,columns=collection_cols,inplace=True)\n",
    "        collections_info = pd.merge(info_df,collections_df,on='tojoin')\n",
    "        info_cards = pd.concat([info_cards,collections_info],sort=True)\n",
    "    \n",
    "    user_ids = page_info['visibility']['userIds']\n",
    "    users = pd.DataFrame()\n",
    "    if len(user_ids) > 0:\n",
    "        users = pd.DataFrame({'user_id':user_ids,'tojoin':[1]*len(user_ids)})\n",
    "        \n",
    "    group_ids = page_info['visibility']['groupIds']\n",
    "    groups = pd.DataFrame()\n",
    "    if len(group_ids) > 0:\n",
    "        for x in group_ids:\n",
    "            uu = domo_obj.groups.list_users(x)\n",
    "            tdf = pd.DataFrame({'group_id':[x]*len(uu),'user_id':uu,'tojoin':[1]*len(uu)})\n",
    "            groups = pd.concat([groups,tdf],sort=True)\n",
    "    \n",
    "    visibility = pd.concat([users,groups],sort=True)\n",
    "    \n",
    "    out = pd.merge(info_cards,visibility,on='tojoin')\n",
    "    final_name_changes = {'id':'page_id','locked':'page_locked','name':'page_name','ownerId':'page_owner'}\n",
    "    out.drop(columns=['tojoin'],inplace=True)\n",
    "    out.rename(index=str,columns=final_name_changes,inplace=True)\n",
    "    \n",
    "    \n",
    "    return(out)"
   ]
  },
  {
   "cell_type": "markdown",
   "metadata": {},
   "source": [
    "Now that we have this function, we can get a list of all pages in the instance and run the function for each page, concatenating all of the pages together."
   ]
  },
  {
   "cell_type": "code",
   "execution_count": null,
   "metadata": {},
   "outputs": [],
   "source": [
    "all_page_permissions = pd.DataFrame()\n",
    "for x in list(domo.pages.list()):\n",
    "    all_page_permissions = pd.concat([all_page_permissions,format_page_info(domo,x['id'])],sort=True)\n",
    "\n",
    "all_page_permissions.reset_index(inplace=True,drop=True)\n",
    "all_page_permissions.to_csv('permissions.csv',index=False)"
   ]
  },
  {
   "cell_type": "markdown",
   "metadata": {},
   "source": [
    "## PDP Management\n",
    "Have you ever wanted to do the following?\n",
    "\n",
    "* Create a batch of PDP policies based on a data set?\n",
    "* Copy PDP policies from one data set to another?\n",
    "* Create a list of PDP policies and store that list in a data set?\n",
    "\n",
    "### Create a batch of policies\n",
    "\n",
    "For simplicity sake, we'll run through the entire user list creating one policy for every user against a specific data set. We'll assume that the user's email address is in a column of the data set. The function below will build a single policy allowing for additional fixed filters to be passed in as I have found this to be a useful feature. That function would then be used in a loop to add the policies to a dataset."
   ]
  },
  {
   "cell_type": "code",
   "execution_count": null,
   "metadata": {},
   "outputs": [],
   "source": [
    "from pydomo.datasets import DataSetRequest, Schema, Column, ColumnType, Policy\n",
    "from pydomo.datasets import PolicyFilter, FilterOperator, PolicyType, Sorting\n",
    "\n",
    "def email_policy_add(user_info,email_column='pdp_email',addtl_filters=[]):\n",
    "    pdp_filter = PolicyFilter()\n",
    "    pdp_filter.column = email_column  \n",
    "    pdp_filter.operator = FilterOperator.EQUALS\n",
    "    pdp_filter.values = [user_info['email']]\n",
    "    \n",
    "    all_filters = [pdp_filter]\n",
    "    all_filters.extend(addtl_filters)\n",
    "    \n",
    "    pdp_request = Policy()\n",
    "    pdp_request.name = \"{} | {}\".format(email_column,user_info['email'])\n",
    "    pdp_request.filters = all_filters\n",
    "    pdp_request.type = PolicyType.USER\n",
    "    pdp_request.users = [user_info['id']]\n",
    "    pdp_request.groups = []\n",
    "    \n",
    "    return(pdp_request)"
   ]
  },
  {
   "cell_type": "markdown",
   "metadata": {},
   "source": [
    "Now that we have the function created, we can run this through a loop to add the policies to a data set. Note that I created a separate filter to add to each policy. This is what I do when I want to control the overall visibility of a row of data. If I need to hide it, I can flip the value to 0 in the data set hiding that row of data w/o needing to modify policies again. (Note that this allows you to add policies where values don't exist in the data.)"
   ]
  },
  {
   "cell_type": "code",
   "execution_count": null,
   "metadata": {},
   "outputs": [],
   "source": [
    "extra_filter = PolicyFilter()\n",
    "extra_filter.column = 'scorecard_instance'\n",
    "extra_filter.operator = FilterOperator.EQUALS\n",
    "extra_filter.values = ['1']\n",
    "\n",
    "my_dataset = '91ab79cb-f018-4479-a8cb-909d445dbecb'\n",
    "\n",
    "all_current_users = get_all_users(domo)\n",
    "\n",
    "new_policies = []\n",
    "for x in all_current_users:\n",
    "    x_policy = email_policy_add(x,addtl_filters=[extra_filter])\n",
    "    new_policies.append(domo.datasets.create_pdp(my_dataset,x_policy))\n",
    "    \n",
    "# Turn PDP on\n",
    "ds_info = domo.datasets.update(my_dataset,{'pdpEnabled':True})"
   ]
  },
  {
   "cell_type": "markdown",
   "metadata": {},
   "source": [
    "Now, we might want to remove all of the policies on a data set. To do that, we can request a list of all the policies and then delete each one in turn."
   ]
  },
  {
   "cell_type": "code",
   "execution_count": null,
   "metadata": {},
   "outputs": [],
   "source": [
    "all_pdp = domo.datasets.list_pdps(my_dataset)\n",
    "for x in all_pdp:\n",
    "    if x['name'] != 'All Rows' :\n",
    "        domo.datasets.delete_pdp(my_dataset,x['id'])\n",
    "\n",
    "# Turn PDP off\n",
    "ds_info = domo.datasets.update(my_dataset,{'pdpEnabled':False})"
   ]
  },
  {
   "cell_type": "markdown",
   "metadata": {},
   "source": [
    "### Copy policies from one data set to another\n",
    "The simplest way to do this is to pull all of the policies from one data set, and run a loop to create them on another. In this example, I'll copy policies from the data set above to two other data sets."
   ]
  },
  {
   "cell_type": "code",
   "execution_count": null,
   "metadata": {},
   "outputs": [],
   "source": [
    "ds_new_pdp = ['c4416a0c-d7a0-4a6d-a37f-eeed7bdaf530',\n",
    "              'ad84816d-68bb-4aae-b4c3-8c83ac4f6359']\n",
    "\n",
    "policies_to_copy = domo.datasets.list_pdps(my_dataset)\n",
    "\n",
    "copied_policies = {}\n",
    "\n",
    "for x in ds_new_pdp:\n",
    "    copied_policies[x] = []\n",
    "    for y in policies_to_copy:\n",
    "        if y['name'] != 'All Rows':\n",
    "            np = domo.datasets.create_pdp(x,y)\n",
    "            copied_policies[x].append(np)\n",
    "\n",
    "copied_policies"
   ]
  },
  {
   "cell_type": "markdown",
   "metadata": {},
   "source": [
    "### Copy policies into a Domo dataset\n",
    "This can be done by calling the list_pdps function and then formatting the output into a DataFrame and then uploading that DataFrame to Domo. We'll do this for three data sets."
   ]
  },
  {
   "cell_type": "code",
   "execution_count": null,
   "metadata": {},
   "outputs": [],
   "source": [
    "pdp_ds = ds_new_pdp\n",
    "pdp_ds.append(my_dataset)\n",
    "\n",
    "def format_policies(domo_obj,ds):\n",
    "    a = domo_obj.datasets.list_pdps(ds)\n",
    "    out = pd.DataFrame()\n",
    "    for x in a:\n",
    "        tt = pd.DataFrame({'ds_id':ds,'pdp_id':x['id'],'pdp_name':x['name'],\n",
    "                           'n_users':len(x['users']),'n_groups':len(x['groups'])},index=[0])\n",
    "        out = pd.concat([out,tt])\n",
    "    out.reset_index(inplace=True,drop=True)\n",
    "    return out\n",
    "\n",
    "all_my_policies = pd.DataFrame()\n",
    "for x in pdp_ds:\n",
    "    tt = format_policies(domo,x)\n",
    "    all_my_policies = pd.concat([all_my_policies,tt])\n",
    "\n",
    "all_my_policies.reset_index(inplace=True,drop=True)"
   ]
  },
  {
   "cell_type": "code",
   "execution_count": null,
   "metadata": {},
   "outputs": [],
   "source": [
    "from pydomo.datasets import DataSetRequest, Schema, Column, ColumnType, Policy\n",
    "from pydomo.datasets import PolicyFilter, FilterOperator, PolicyType, Sorting\n",
    "\n",
    "new_ds = DataSetRequest()\n",
    "new_ds.name = 'PDP List'\n",
    "new_ds.description = 'Downloaded via API'\n",
    "new_ds.schema = Schema([Column(ColumnType.STRING, 'ds_id'),\n",
    "                        Column(ColumnType.DOUBLE, 'policy_id'),\n",
    "                       Column(ColumnType.STRING, 'policy_name'),\n",
    "                       Column(ColumnType.DOUBLE, 'n_users'),\n",
    "                       Column(ColumnType.DOUBLE, 'n_groups')])\n",
    "\n",
    "dataset = domo.datasets.create(new_ds)"
   ]
  },
  {
   "cell_type": "markdown",
   "metadata": {},
   "source": [
    "Now that the data set has been created, we need to upload data. This can be done by converting the data set to a CSV string and using the `data_import` function."
   ]
  },
  {
   "cell_type": "code",
   "execution_count": null,
   "metadata": {
    "scrolled": true
   },
   "outputs": [],
   "source": [
    "my_ds_str = all_my_policies.to_csv(index=False)\n",
    "domo.datasets.data_import(dataset['id'], my_ds_str)"
   ]
  },
  {
   "cell_type": "markdown",
   "metadata": {},
   "source": [
    "This can be repeated to replace all of the data."
   ]
  },
  {
   "cell_type": "code",
   "execution_count": null,
   "metadata": {},
   "outputs": [],
   "source": [
    "my_ds_str = all_my_policies.to_csv(index=False)\n",
    "domo.datasets.data_import(dataset['id'], my_ds_str)"
   ]
  }
 ],
 "metadata": {
  "kernelspec": {
   "display_name": "Python 3",
   "language": "python",
   "name": "python3"
  },
  "language_info": {
   "codemirror_mode": {
    "name": "ipython",
    "version": 3
   },
   "file_extension": ".py",
   "mimetype": "text/x-python",
   "name": "python",
   "nbconvert_exporter": "python",
   "pygments_lexer": "ipython3",
   "version": "3.7.2"
  }
 },
 "nbformat": 4,
 "nbformat_minor": 2
}
